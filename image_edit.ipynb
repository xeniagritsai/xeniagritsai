{
 "cells": [
  {
   "cell_type": "code",
   "execution_count": null,
   "metadata": {},
   "outputs": [],
   "source": [
    "import cv2\n",
    "\n",
    "# Функция изменения размера изображения\n",
    "def resize_image(image_path, width, height):\n",
    "    image = cv2.imread(image_path)\n",
    "    resized_image = cv2.resize(image, (width, height))\n",
    "    return resized_image\n",
    "\n",
    "# Функция конвертации в черно-белое\n",
    "def convert_to_grayscale(image_path):\n",
    "    image = cv2.imread(image_path)\n",
    "    grayscale_image = cv2.cvtColor(image, cv2.COLOR_BGR2GRAY)\n",
    "    return grayscale_image\n",
    "\n",
    "# Функция применения фильтра Гаусса\n",
    "def apply_gaussian_blur(image_path, kernel_size=(5, 5)):\n",
    "    image = cv2.imread(image_path)\n",
    "    blurred_image = cv2.GaussianBlur(image, kernel_size, 0)\n",
    "    return blurred_image\n",
    "\n",
    "# Использование\n",
    "file_path = \"your_image.jpg\"  # Путь к изображению\n",
    "\n",
    "# Изменение размера\n",
    "resized = resize_image(file_path, 800, 800)\n",
    "cv2.imshow(\"Resized Image\", resized)\n",
    "cv2.imwrite(\"resized_image.jpg\", resized)\n",
    "\n",
    "# Конвертация в черно-белое\n",
    "grayscale = convert_to_grayscale(file_path)\n",
    "cv2.imshow(\"Grayscale Image\", grayscale)\n",
    "cv2.imwrite(\"grayscale_image.jpg\", grayscale)\n",
    "\n",
    "# Применение фильтра Гаусса\n",
    "blurred = apply_gaussian_blur(file_path)\n",
    "cv2.imshow(\"Blurred Image\", blurred)\n",
    "cv2.imwrite(\"blurred_image.jpg\", blurred)\n",
    "\n",
    "cv2.waitKey(0)\n",
    "cv2.destroyAllWindows()\n"
   ]
  }
 ],
 "metadata": {
  "language_info": {
   "name": "python"
  }
 },
 "nbformat": 4,
 "nbformat_minor": 2
}
