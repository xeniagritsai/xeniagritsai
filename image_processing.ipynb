{
 "cells": [
  {
   "cell_type": "code",
   "execution_count": null,
   "metadata": {},
   "outputs": [],
   "source": [
    "import cv2\n",
    "import numpy as np\n",
    "\n",
    "def process_image_opencv(file_path):\n",
    "    # Загрузка изображения\n",
    "    image = cv2.imread(file_path, cv2.IMREAD_UNCHANGED)\n",
    "    \n",
    "    # Проверяем, содержит ли изображение альфа-канал\n",
    "    if image.shape[2] == 4:  # Альфа-канал присутствует\n",
    "        # Отделяем альфа-канал\n",
    "        b, g, r, alpha = cv2.split(image)\n",
    "        \n",
    "        # Создаем белый фон\n",
    "        white_background = np.ones_like(alpha) * 255\n",
    "        \n",
    "        # Добавляем белый фон к прозрачным участкам\n",
    "        alpha_normalized = alpha / 255.0\n",
    "        b = b * alpha_normalized + white_background * (1 - alpha_normalized)\n",
    "        g = g * alpha_normalized + white_background * (1 - alpha_normalized)\n",
    "        r = r * alpha_normalized + white_background * (1 - alpha_normalized)\n",
    "        \n",
    "        # Объединяем каналы в итоговое изображение\n",
    "        image = cv2.merge((b, g, r)).astype(np.uint8)\n",
    "    \n",
    "    # Возвращаем обработанное изображение\n",
    "    return image\n",
    "\n",
    "# Пример использования\n",
    "file_path = \"your_image.png\"  # Путь к вашему файлу\n",
    "processed_image = process_image_opencv(file_path)\n",
    "cv2.imshow(\"Processed Image\", processed_image)  # Покажем результат\n",
    "cv2.imwrite(\"processed_image.jpg\", processed_image)  # Сохраним в новый файл\n",
    "cv2.waitKey(0)\n",
    "cv2.destroyAllWindows()\n"
   ]
  }
 ],
 "metadata": {
  "kernelspec": {
   "display_name": "Python 3",
   "language": "python",
   "name": "python3"
  },
  "language_info": {
   "codemirror_mode": {
    "name": "ipython",
    "version": 3
   },
   "file_extension": ".py",
   "mimetype": "text/x-python",
   "name": "python",
   "nbconvert_exporter": "python",
   "pygments_lexer": "ipython3",
   "version": "3.12.0"
  }
 },
 "nbformat": 4,
 "nbformat_minor": 2
}
